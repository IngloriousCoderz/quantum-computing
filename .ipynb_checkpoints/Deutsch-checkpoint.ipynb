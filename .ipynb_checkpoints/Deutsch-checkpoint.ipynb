{
 "cells": [
  {
   "cell_type": "markdown",
   "metadata": {},
   "source": [
    "# Deutsch Algorithm"
   ]
  },
  {
   "cell_type": "markdown",
   "metadata": {},
   "source": [
    "In April 7, 2020 I was introduced to the fundamentals of Quantum Computing, and it was love at first sight. I started studying [Python](https://www.python.org/) and [Qiskit](https://qiskit.org/) and [Jupyter](https://jupyter.org/) notebooks and, after working hard on the basics for a dozen days, I was stuck with the most basic algorithm. But then I worked even harder, and I got it finally. Here is the result of my studies as an exported Jupyter notebook."
   ]
  },
  {
   "cell_type": "code",
   "execution_count": 1,
   "metadata": {},
   "outputs": [],
   "source": [
    "from qiskit import QuantumCircuit, Aer, execute\n",
    "from qiskit.visualization import plot_histogram, plot_bloch_multivector\n",
    "from qiskit.quantum_info import Operator"
   ]
  },
  {
   "cell_type": "code",
   "execution_count": 2,
   "metadata": {},
   "outputs": [],
   "source": [
    "import math\n",
    "\n",
    "def unitary(circuit):\n",
    "    unitary = execute(circuit, Aer.get_backend('unitary_simulator')).result().get_unitary()\n",
    "    pretty_unitary = ''\n",
    "    for row in range(len(unitary)):\n",
    "        pretty_unitary += '|'\n",
    "        for column in range(len(unitary[row])):\n",
    "            value = unitary[row][column]\n",
    "            if math.isclose(value.imag, 0, abs_tol=0.01):\n",
    "                pretty_value = '{num.real:>-.2f}'.format(num=value)\n",
    "            elif math.isclose(value.real, 0, abs_tol=0.01):\n",
    "                pretty_value = '{num.imag:>-.2f}i'.format(num=value)\n",
    "            else:\n",
    "                pretty_value = '{num.real:>-.2f}+{num.imag:>-.2f}i'.format(num=value)\n",
    "            \n",
    "            pretty_unitary += pretty_value\n",
    "            if column < len(unitary[row])-1:\n",
    "                pretty_unitary += ' '\n",
    "        pretty_unitary += '|\\n'\n",
    "    print(pretty_unitary)"
   ]
  },
  {
   "cell_type": "markdown",
   "metadata": {},
   "source": [
    "Say we have a function $f$ which takes some zeroes and ones as input and returns 0 or 1 according to some logic. We cannot inspect the function, but we can invoke it as a black box and, based on the output of our experiments, we are able to understand the underlying logic. We call such a function an \"oracle\".\n",
    "\n",
    "A one-bit oracle will only be able to produce the following results:\n",
    "\n",
    "1. $f(0) = 0, f(1) = 0$\n",
    "2. $f(0) = 1, f(1) = 1$\n",
    "3. $f(0) = 0, f(1) = 1$\n",
    "4. $f(0) = 1, f(1) = 0$\n",
    "\n",
    "If the oracle behaves like 1. or 2. it means that whatever input I use I will always obtain the same result: the function is then considered \"constant\" (always zero or always one). If instead it behaves like 3. or 4. it means that sometimes I get 0 and sometimes 1: the function could then be considered \"variable\", although in the more generic algorithm of Deutsch-Josza we use the term \"balanced\" so we are going to use it here too (a balanced function gives 0 for half of the inputs and 1 for the other half, which by the way applies here too).\n",
    "\n",
    "Although possibly confusing, we can call these functions for future reference like so:\n",
    "\n",
    "1. Zero: always gives 0 (constant)\n",
    "2. One: always gives 1 (constant)\n",
    "3. Identity: gives the unchanged input (balanced)\n",
    "4. Negation: gives the inverted input (balanced)"
   ]
  },
  {
   "cell_type": "markdown",
   "metadata": {},
   "source": [
    "## The Classical Way\n",
    "\n",
    "In order to guess the logic a classical computer would need to call the function twice:"
   ]
  },
  {
   "cell_type": "code",
   "execution_count": 3,
   "metadata": {},
   "outputs": [
    {
     "name": "stdout",
     "output_type": "stream",
     "text": [
      "Zero is constant\n",
      "One is constant\n",
      "Identity is balanced\n",
      "Negation is balanced\n"
     ]
    }
   ],
   "source": [
    "def guess(f):\n",
    "    constant = 0\n",
    "    balanced = 1\n",
    "    \n",
    "    if f(0) == 0:\n",
    "        if f(1) == 0:\n",
    "            return constant # zero\n",
    "        elif f(1) == 1:\n",
    "            return balanced # identity\n",
    "    elif f(0) == 1:\n",
    "        if f(1) == 0:\n",
    "            return balanced # negation\n",
    "        elif f(1) == 1:\n",
    "            return constant # one\n",
    "\n",
    "def zero(bit):\n",
    "    return 0\n",
    "\n",
    "def one(bit):\n",
    "    return 1\n",
    "\n",
    "def identity(bit):\n",
    "    return bit\n",
    "\n",
    "def negation(bit):\n",
    "    return 1 - bit\n",
    "\n",
    "def test_guess(name, type):\n",
    "    print(name, 'is', 'constant' if guess(type) == 0 else 'balanced')\n",
    "\n",
    "test_guess('Zero', zero)\n",
    "test_guess('One', one)\n",
    "test_guess('Identity', identity)\n",
    "test_guess('Negation', negation)"
   ]
  },
  {
   "cell_type": "markdown",
   "metadata": {},
   "source": [
    "The Deutsch algorithm instead guesses if the oracle is constant or balanced with just one call to `f`, using the magic of quantum superposition. We will see how, but first we have to redefine the oracle in the quantum world."
   ]
  },
  {
   "cell_type": "markdown",
   "metadata": {},
   "source": [
    "## The Oracle\n",
    "\n",
    "We could think that the oracle is a single-qubit gate, with just an input and an output:\n",
    "\n",
    "```\n",
    "input    +--------+    output\n",
    "  |x⟩ ---| oracle |--- |f(x)⟩\n",
    "         +--------+\n",
    "```\n",
    "\n",
    "As [this YouTube video](https://youtu.be/F_Riqjdh2oM) shows, the matrices associated to the four operations we can do on a single qubit are as follows:\n",
    "\n",
    "1. Zero (constant): $\\begin{bmatrix}1 & 1\\\\0 & 0\\end{bmatrix}$\n",
    "2. One (constant): $\\begin{bmatrix}0 & 0\\\\1 & 1\\end{bmatrix}$\n",
    "3. Identity (balanced): $\\begin{bmatrix}1 & 0\\\\0 & 1\\end{bmatrix}$\n",
    "4. Negation (balanced): $\\begin{bmatrix}0 & 1\\\\1 & 0\\end{bmatrix}$ (equal to the Pauli gate X)\n",
    "\n",
    "However these turn out to be useless, especially the first two since they are not even unitary."
   ]
  },
  {
   "cell_type": "markdown",
   "metadata": {},
   "source": [
    "As any gate in a quantum circuit, the oracle must be reversible (i.e. applying it twice will produce the Identity matrix). That's why we need to convert it into a two-qubits gate: the first qubit is the input value of the function, which isn't supposed to change, and the second qubit usually starts with $|0\\rangle$ and will change into the result of the oracle:\n",
    "\n",
    "```mermaid\n",
    " input    +--------+    input'\n",
    "   |x⟩ ---|        |--- |x⟩\n",
    "          | oracle |\n",
    "   |0⟩ ---|        |--- |f(x)⟩\n",
    "output    +--------+    output'\n",
    "```\n",
    "\n",
    "However the oracle must be reversible **always**, even when `output` is equal to $|1\\rangle$. So how do we deal with this?\n",
    "\n",
    "If $|1\\rangle$ is also mapped to $|f(x)\\rangle$ we will lose information when applyng the gate twice: what was the initial value of `output`? Not reversible. That's why we need to map $|1\\rangle$ to a different value, namely $|\\neg f(x)\\rangle$. So, to recap:\n",
    "\n",
    "$$\n",
    "y = 0, f(0) = 0 \\Rightarrow f(0) = 0\\\\\n",
    "y = 0, f(0) = 1 \\Rightarrow f(0) = 1\\\\\n",
    "y = 1, f(1) = 0 \\Rightarrow \\neg f(1) = 1\\\\\n",
    "y = 1, f(1) = 1 \\Rightarrow \\neg f(1) = 0\n",
    "$$\n",
    "\n",
    "The outcome we expect from `output'` now looks like a XOR between `output` (the $y$) and `output'` (the $f(x)$). That's why the generic form of an oracle maps `output'` with not just $|f(x)\\rangle$ but with $|y \\oplus f(x)\\rangle$.\n",
    "\n",
    "```mermaid\n",
    " input    +--------+    input'\n",
    "   |x⟩ ---|        |--- |x⟩\n",
    "          | oracle |\n",
    "   |y⟩ ---|        |--- |y ⊕ f(x)⟩\n",
    "output    +--------+    output'\n",
    "```\n",
    "\n",
    "_Spoiler alert:_ when plugging the oracle in the Deutsch algorithm, we will use it in a \"non-conventional\" way: in fact, `output` will be initialized as $|1\\rangle$ and as a side effect `input'` will change!"
   ]
  },
  {
   "cell_type": "code",
   "execution_count": 4,
   "metadata": {},
   "outputs": [],
   "source": [
    "qubits = 2\n",
    "input = 0\n",
    "output = 1"
   ]
  },
  {
   "cell_type": "markdown",
   "metadata": {},
   "source": [
    "### Defining The Four Operators\n",
    "\n",
    "So how do we implement the four different oracles? One way we could find the unitary matrices is by analyzing the expected output. Let's try with Zero:\n",
    "\n",
    "$$\n",
    "Zero \\cdot |00\\rangle = |00\\rangle\\\\\n",
    "Zero \\cdot |01\\rangle = |01\\rangle\n",
    "$$\n",
    "\n",
    "So the vectors $\\begin{bmatrix}1\\\\0\\\\0\\\\0\\end{bmatrix}$ and $\\begin{bmatrix}0\\\\1\\\\0\\\\0\\end{bmatrix}$ are mapped to themselves. This suggests the following matrix:\n",
    "\n",
    "$$\n",
    "Zero = \\begin{bmatrix}\n",
    "1 & 0 & 0 & 0\\\\\n",
    "0 & 1 & 0 & 0\\\\\n",
    "? & ? & ? & ?\\\\\n",
    "? & ? & ? & ?\n",
    "\\end{bmatrix}\n",
    "$$\n",
    "\n",
    "What about the last two rows? Let's remember that the oracle must be reversible, even with an `output` of $|1\\rangle$ (which will in fact be the case when using Deutsch's algorithm).\n",
    "\n",
    "Knowing that the Zero function must give us $\\neg f(x)$ when `output` is $|1\\rangle$, we can now complete our output mapping:\n",
    "\n",
    "$$\n",
    "Zero \\cdot |10\\rangle = |10\\rangle\\\\\n",
    "Zero \\cdot |11\\rangle = |11\\rangle\n",
    "$$\n",
    "\n",
    "So the vectors $\\begin{bmatrix}0\\\\0\\\\1\\\\0\\end{bmatrix}$ and $\\begin{bmatrix}0\\\\0\\\\0\\\\1\\end{bmatrix}$ are mapped to themselves, which leads to the Identity matrix (thank you [Gabriele Agliardi](https://www.linkedin.com/in/gabriele-agliardi-50471047/) for helping me on this!):\n",
    "\n",
    "$$\n",
    "Zero = \\begin{bmatrix}\n",
    "1 & 0 & 0 & 0\\\\\n",
    "0 & 1 & 0 & 0\\\\\n",
    "0 & 0 & 1 & 0\\\\\n",
    "0 & 0 & 0 & 1\n",
    "\\end{bmatrix}\n",
    "$$"
   ]
  },
  {
   "cell_type": "code",
   "execution_count": 5,
   "metadata": {},
   "outputs": [],
   "source": [
    "zero = Operator([\n",
    "    [1, 0, 0, 0],\n",
    "    [0, 1, 0, 0],\n",
    "    [0, 0, 0, 1],\n",
    "    [0, 0, 1, 0]\n",
    "])"
   ]
  },
  {
   "cell_type": "markdown",
   "metadata": {},
   "source": [
    "This operator corresponds to not doing anything at all inside the oracle:\n",
    "\n",
    "```\n",
    " input    +------+    input'\n",
    "   |x⟩ ---| ---- |--- |x⟩\n",
    "          |      |\n",
    "   |0⟩ ---| ---- |--- |0⟩\n",
    "output    +------+    output'\n",
    "```"
   ]
  },
  {
   "cell_type": "markdown",
   "metadata": {},
   "source": [
    "Let's try now with One:\n",
    "\n",
    "$$\n",
    "One \\cdot |00\\rangle = |10\\rangle\\\\\n",
    "One \\cdot |01\\rangle = |11\\rangle\n",
    "$$\n",
    "\n",
    "So $\\begin{bmatrix}1\\\\0\\\\0\\\\0\\end{bmatrix} \\rightarrow \\begin{bmatrix}0\\\\0\\\\1\\\\0\\end{bmatrix}$ and $\\begin{bmatrix}0\\\\1\\\\0\\\\0\\end{bmatrix} \\rightarrow \\begin{bmatrix}0\\\\0\\\\0\\\\1\\end{bmatrix}$ (first position mapped to third, second position mapped to fourth). This suggests the following matrix:\n",
    "\n",
    "$$\n",
    "One = \\begin{bmatrix}\n",
    "0 & 0 & 1 & 0\\\\\n",
    "0 & 0 & 0 & 1\\\\\n",
    "1 & 0 & 0 & 0\\\\\n",
    "0 & 1 & 0 & 0\n",
    "\\end{bmatrix}\n",
    "$$"
   ]
  },
  {
   "cell_type": "code",
   "execution_count": 6,
   "metadata": {},
   "outputs": [],
   "source": [
    "one = Operator([\n",
    "    [0, 0, 1, 0],\n",
    "    [0, 0, 0, 1],\n",
    "    [1, 0, 0, 0],\n",
    "    [0, 1, 0, 0]\n",
    "])"
   ]
  },
  {
   "cell_type": "markdown",
   "metadata": {},
   "source": [
    "This operator looks like a $X \\otimes I$, which corresponds to just putting an X gate on the output:\n",
    "\n",
    "```\n",
    " input    +---------+    input'\n",
    "   |x⟩ ---| ------- |--- |x⟩\n",
    "          |         |\n",
    "   |0⟩ ---| --|X|-- |--- |1⟩\n",
    "output    +---------+    output'\n",
    "```"
   ]
  },
  {
   "cell_type": "markdown",
   "metadata": {},
   "source": [
    "Now for Identity:\n",
    "\n",
    "$$\n",
    "Identity \\cdot |00\\rangle = |00\\rangle\\\\\n",
    "Identity \\cdot |01\\rangle = |11\\rangle\n",
    "$$\n",
    "\n",
    "So $\\begin{bmatrix}1\\\\0\\\\0\\\\0\\end{bmatrix} \\rightarrow \\begin{bmatrix}1\\\\0\\\\0\\\\0\\end{bmatrix}$ and $\\begin{bmatrix}0\\\\1\\\\0\\\\0\\end{bmatrix} \\rightarrow \\begin{bmatrix}0\\\\0\\\\0\\\\1\\end{bmatrix}$ (first position mapped to itself, second position mapped to fourth). This suggests the following matrix:\n",
    "\n",
    "$$\n",
    "Identity = \\begin{bmatrix}\n",
    "1 & 0 & 0 & 0\\\\\n",
    "0 & 0 & 0 & 1\\\\\n",
    "0 & 0 & 1 & 0\\\\\n",
    "0 & 1 & 0 & 0\n",
    "\\end{bmatrix}\n",
    "$$"
   ]
  },
  {
   "cell_type": "code",
   "execution_count": 7,
   "metadata": {},
   "outputs": [],
   "source": [
    "identity = Operator([\n",
    "    [1, 0, 0, 0],\n",
    "    [0, 0, 0, 1],\n",
    "    [0, 0, 1, 0],\n",
    "    [0, 1, 0, 0]\n",
    "])"
   ]
  },
  {
   "cell_type": "markdown",
   "metadata": {},
   "source": [
    "This operator looks like a CNOT on the output:\n",
    "\n",
    "```\n",
    " input    +---------+    input'\n",
    "   |x⟩ ---| ---*--- |--- |x⟩\n",
    "          |    |    |\n",
    "   |0⟩ ---| --|X|-- |--- |0⟩ or |1⟩, depending on |x⟩\n",
    "output    +---------+    output'\n",
    "```"
   ]
  },
  {
   "cell_type": "markdown",
   "metadata": {},
   "source": [
    "And finally Negation:\n",
    "\n",
    "$$\n",
    "Negation \\cdot |00\\rangle = |10\\rangle\\\\\n",
    "Negation \\cdot |01\\rangle = |01\\rangle\n",
    "$$\n",
    "\n",
    "So  $\\begin{bmatrix}1\\\\0\\\\0\\\\0\\end{bmatrix} \\rightarrow \\begin{bmatrix}0\\\\0\\\\1\\\\0\\end{bmatrix}$ and $\\begin{bmatrix}0\\\\1\\\\0\\\\0\\end{bmatrix} \\rightarrow \\begin{bmatrix}0\\\\0\\\\0\\\\1\\end{bmatrix}$ (first position mapped to third, second position mapped to itself). This suggests the following matrix:\n",
    "\n",
    "$$\n",
    "Negation = \\begin{bmatrix}\n",
    "0 & 0 & 1 & 0\\\\\n",
    "0 & 1 & 0 & 0\\\\\n",
    "1 & 0 & 0 & 0\\\\\n",
    "0 & 0 & 0 & 1\n",
    "\\end{bmatrix}\n",
    "$$"
   ]
  },
  {
   "cell_type": "code",
   "execution_count": 8,
   "metadata": {},
   "outputs": [],
   "source": [
    "negation = Operator([\n",
    "    [0, 0, 1, 0],\n",
    "    [0, 1, 0, 0],\n",
    "    [1, 0, 0, 0],\n",
    "    [0, 0, 0, 1]\n",
    "])"
   ]
  },
  {
   "cell_type": "markdown",
   "metadata": {},
   "source": [
    "This operator could be interpreted as a CNOT on the output, sandwiched by two negations on the input:\n",
    "\n",
    "```\n",
    " input    +---------------+    input'\n",
    "   |x⟩ ---| --|X|-*-|X|-- |--- |x⟩\n",
    "          |       |       |\n",
    "   |0⟩ ---| -----|X|----- |--- |1⟩ or |0⟩, depending on |x⟩\n",
    "output    +---------------+    output'\n",
    "```\n",
    "\n",
    "Why is that? Well, if we look at the truth table:\n",
    "\n",
    "|output|input|output'|input'|\n",
    "|------|-----|-------|------|\n",
    "|0     |0    |1      |0     |\n",
    "|0     |1    |0      |1     |\n",
    "|1     |0    |0      |0     |\n",
    "|1     |1    |1      |1     |\n",
    "\n",
    "We can see it as a CNOT from `input` to `output`, but:\n",
    "- `output'` is flipped when input is 0 instead of 1 so we need to negate `input` before applying the CNOT; and\n",
    "- `input` must be negated again afterwards to turn back to its original state.\n",
    "\n",
    "It's easy to prove that $(I \\otimes X) \\cdot CX \\cdot (I \\otimes X)$ gives that same exact matrix.\n",
    "\n",
    "Or, as the YouTube video shows, we can even see it as a CNOT with a subsequent negation on `output`, which makes even more sense in this simple case.\n",
    "\n",
    "```\n",
    " input    +-------------+    input'\n",
    "   |x⟩ ---| ---*------- |--- |x⟩\n",
    "          |    |        |\n",
    "   |0⟩ ---| --|X|-|X|-- |--- |1⟩ or |0⟩, depending on |x⟩\n",
    "output    +-------------+    output'\n",
    "```"
   ]
  },
  {
   "cell_type": "markdown",
   "metadata": {},
   "source": [
    "### Implementing The Oracle\n",
    "\n",
    "We can finally define our oracle as a circuit that can make use of one of these four operators."
   ]
  },
  {
   "cell_type": "code",
   "execution_count": 9,
   "metadata": {},
   "outputs": [],
   "source": [
    "def oracle(type):\n",
    "    oracle = QuantumCircuit(qubits, name='oracle')\n",
    "    oracle.append(type, range(qubits))\n",
    "    return oracle"
   ]
  },
  {
   "cell_type": "markdown",
   "metadata": {},
   "source": [
    "We can verify that the operators are well defined by invoking the following test function using all possible combinations."
   ]
  },
  {
   "cell_type": "code",
   "execution_count": 10,
   "metadata": {},
   "outputs": [
    {
     "name": "stdout",
     "output_type": "stream",
     "text": [
      "Zero(0): 0 \t Zero(1): 0\n",
      "One(0): 1 \t One(1): 1\n",
      "Identity(0): 0 \t Identity(1): 1\n",
      "Negation(0): 1 \t Negation(1): 0\n"
     ]
    }
   ],
   "source": [
    "def test_oracle_with(type, q1=0, q0=0):\n",
    "    circuit = QuantumCircuit(2, 1)\n",
    "    if (q0 == 1):\n",
    "        circuit.x(input)\n",
    "    if (q1 == 1):\n",
    "        circuit.x(output)\n",
    "    circuit.append(oracle(type), range(qubits))\n",
    "    circuit.measure(output, 0)\n",
    "    backend = Aer.get_backend('qasm_simulator')\n",
    "    return execute(circuit, backend, shots=1, memory=True).result().get_memory()[0]\n",
    "\n",
    "\n",
    "def test_oracle(name, type):\n",
    "    print('{}(0):'.format(name), test_oracle_with(type, q0=0), '\\t', '{}(1):'.format(name), test_oracle_with(type, q0=1))\n",
    "\n",
    "test_oracle('Zero', zero)\n",
    "test_oracle('One', one)\n",
    "test_oracle('Identity', identity)\n",
    "test_oracle('Negation', negation)"
   ]
  },
  {
   "cell_type": "markdown",
   "metadata": {},
   "source": [
    "## The Algorithm\n",
    "\n",
    "The Deutsch algorithm is pretty straightforward. It just does the following:\n",
    "\n",
    "1. Negates the `output` qubit so it starts with $|1\\rangle$\n",
    "2. Applies Hadamard gates to both input and output to turn them into a superposition\n",
    "3. Applies the oracle, whichever it is\n",
    "4. Converts back the input with a Hadamard gate and measures it, since it now holds the answer to the question: \"is the function balanced?\"\n",
    "\n",
    "Note that we don't measure the output, since it's irrelevant and yields the wrong result anyway."
   ]
  },
  {
   "cell_type": "code",
   "execution_count": 11,
   "metadata": {},
   "outputs": [
    {
     "data": {
      "image/png": "[encoded data removed]",
      "text/plain": [
       "<Figure size 659.792x204.68 with 1 Axes>"
      ]
     },
     "execution_count": 11,
     "metadata": {},
     "output_type": "execute_result"
    }
   ],
   "source": [
    "def deutsch(oracle):\n",
    "    cbits = 1\n",
    "    circuit = QuantumCircuit(qubits, cbits, name='deutsch')\n",
    "    circuit.x(output)\n",
    "    circuit.barrier()\n",
    "    circuit.h(input)\n",
    "    circuit.h(output)\n",
    "    circuit.append(oracle.to_instruction(), range(qubits))\n",
    "    circuit.h(input)\n",
    "    circuit.barrier()\n",
    "    circuit.measure(input, 0)\n",
    "    return circuit\n",
    "\n",
    "circuit = deutsch(oracle(zero))\n",
    "circuit.draw(output='mpl')"
   ]
  },
  {
   "cell_type": "code",
   "execution_count": 12,
   "metadata": {},
   "outputs": [
    {
     "name": "stdout",
     "output_type": "stream",
     "text": [
      "Zero is constant\n",
      "One is constant\n",
      "Identity is balanced\n",
      "Negation is balanced\n"
     ]
    }
   ],
   "source": [
    "def test_deutsch(name, type):\n",
    "    circuit = deutsch(oracle(type))\n",
    "    backend = Aer.get_backend('qasm_simulator')\n",
    "    guess = execute(circuit, backend, shots=1, memory=True).result().get_memory()[0]\n",
    "    print(name, 'is', 'constant' if guess == '0' else 'balanced')\n",
    "\n",
    "test_deutsch('Zero', zero)\n",
    "test_deutsch('One', one)\n",
    "test_deutsch('Identity', identity)\n",
    "test_deutsch('Negation', negation)"
   ]
  },
  {
   "cell_type": "markdown",
   "metadata": {},
   "source": [
    "Intuitively, the difference between Zero and One or Identity and Negation is lost in the Z-basis but the difference between constant and balanced is amplified, because when the function is balanced superposition flips the input qubit.\n",
    "\n",
    "We came up with the same results as the classical algorithm, but with just one call to the function $f$. QED"
   ]
  },
  {
   "cell_type": "code",
   "execution_count": 13,
   "metadata": {},
   "outputs": [],
   "source": [
    "# IceOnFire"
   ]
  }
 ],
 "metadata": {
  "kernelspec": {
   "display_name": "Python 3.7.5 64-bit",
   "language": "python",
   "name": "python37564bit65bf80a0c77045babcde3eda8c48049c"
  },
  "language_info": {
   "codemirror_mode": {
    "name": "ipython",
    "version": 3
   },
   "file_extension": ".py",
   "mimetype": "text/x-python",
   "name": "python",
   "nbconvert_exporter": "python",
   "pygments_lexer": "ipython3",
   "version": "3.7.5"
  }
 },
 "nbformat": 4,
 "nbformat_minor": 4
}
