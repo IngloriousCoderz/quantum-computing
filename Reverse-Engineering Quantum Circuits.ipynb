{
 "cells": [
  {
   "cell_type": "markdown",
   "metadata": {},
   "source": [
    "# Reverse-Engineering Quantum Circuits\n",
    "\n",
    "When studying the basics of quantum computing we start describing circuits with easy calculations on $2 \\times 2$ or $4 \\times 4$ matrices, but as soon as we explore the first algorithms we stumble upon oracles that seem to be too complex to be represented like that. But I like matrices: they are like functions that we can study regardless of the input. If we could describe any circuit as a simple combination of matrices, programming circuits would be similar to programming functions. There must be a way. Maybe I found one."
   ]
  },
  {
   "cell_type": "markdown",
   "metadata": {},
   "source": [
    "Let's start by importing the needed libraries and defining convenience functions to easily draw circuits and unitary matrices:"
   ]
  },
  {
   "cell_type": "code",
   "execution_count": 1,
   "metadata": {},
   "outputs": [],
   "source": [
    "from qiskit import QuantumCircuit, execute, Aer\n",
    "import math\n",
    "\n",
    "def draw(circuit):\n",
    "    return circuit.draw(output='mpl')\n",
    "\n",
    "def unitary(circuit):\n",
    "    unitary = execute(circuit, Aer.get_backend('unitary_simulator')).result().get_unitary()\n",
    "    pretty_unitary = ''\n",
    "    for row in range(len(unitary)):\n",
    "        pretty_unitary += '|'\n",
    "        for column in range(len(unitary[row])):\n",
    "            value = unitary[row][column]\n",
    "            if math.isclose(value.imag, 0, abs_tol=0.01):\n",
    "                pretty_value = '{num.real:.0f}'.format(num=value)\n",
    "            elif math.isclose(value.real, 0, abs_tol=0.01):\n",
    "                pretty_value = '{num.imag:.0f}i'.format(num=value)\n",
    "            else:\n",
    "                pretty_value = '{num.real:.0f}+{num.imag:.0f}i'.format(num=value)\n",
    "            \n",
    "            pretty_unitary += pretty_value\n",
    "            if column < len(unitary[row])-1:\n",
    "                pretty_unitary += ' '\n",
    "        pretty_unitary += '|\\n'\n",
    "    print(pretty_unitary)"
   ]
  },
  {
   "cell_type": "markdown",
   "metadata": {},
   "source": [
    "Since we are going to deal with huge matrices, to make calculations simpler let's also define the following two \"atomic\" matrices:\n",
    "\n",
    "$$\n",
    "\\bar{0} = |0\\rangle\\langle0| =\n",
    "\\begin{bmatrix}\n",
    "1 & 0\\\\\n",
    "0 & 0\n",
    "\\end{bmatrix}\n",
    "\\\\[2em]\n",
    "\\bar{1} = |1\\rangle\\langle1| =\n",
    "\\begin{bmatrix}\n",
    "0 & 0\\\\\n",
    "0 & 1\n",
    "\\end{bmatrix}\n",
    "$$\n",
    "\n",
    "With these two atoms of computation we can define other matrices as a combination of them:\n",
    "\n",
    "$$\n",
    "I =\n",
    "\\begin{bmatrix}\n",
    "1 & 0\\\\\n",
    "0 & 1\n",
    "\\end{bmatrix}\n",
    "=\n",
    "\\begin{bmatrix}\n",
    "1 & 0\\\\\n",
    "0 & 0\n",
    "\\end{bmatrix}\n",
    "+\n",
    "\\begin{bmatrix}\n",
    "0 & 0\\\\\n",
    "0 & 1\n",
    "\\end{bmatrix}\n",
    "= \\bar{0} + \\bar{1}\n",
    "\\\\[2em]\n",
    "CX =\n",
    "\\begin{bmatrix}\n",
    "1 & 0 & 0 & 0\\\\\n",
    "0 & 0 & 0 & 1\\\\\n",
    "0 & 0 & 1 & 0\\\\\n",
    "0 & 1 & 0 & 0\n",
    "\\end{bmatrix}\n",
    "=\n",
    "\\begin{bmatrix}\n",
    "\\bar{0} & \\bar{1}\\\\\n",
    "\\bar{1} & \\bar{0}\n",
    "\\end{bmatrix}\n",
    "=\n",
    "\\begin{bmatrix}\n",
    "\\bar{0} & 0\\\\\n",
    "0 & \\bar{0}\n",
    "\\end{bmatrix}\n",
    "+\n",
    "\\begin{bmatrix}\n",
    "0 & \\bar{1}\\\\\n",
    "\\bar{1} & 0\n",
    "\\end{bmatrix}\n",
    "= I \\otimes \\bar{0} + X \\otimes \\bar{1}\n",
    "$$\n",
    "\n",
    "Note how this last sum can be easily interpreted as: _\"The second qubit remains the same if the first qubit is $|0\\rangle$, but gets flipped if the first qubit is $|1\\rangle$.\"_ That's exactly the description of a CNOT gate!\n",
    "\n",
    "Now we are able to describe all gates as a combination of $2 \\times 2$ matrices, which means we can:\n",
    "\n",
    "1. Reverse-engineer huge unitary matrices by splitting them\n",
    "2. Describe circuits by multiplying their single-qubit gates\n",
    "3. \"Forward-engineer\" circuits by describing the result we expect from them!"
   ]
  },
  {
   "cell_type": "markdown",
   "metadata": {},
   "source": [
    "## $CNOT_{01}$\n",
    "\n",
    "We know how the CNOT gate works on a two-qubits circuit. We expect no surprises if we add a (completely useless) third qubit."
   ]
  },
  {
   "cell_type": "code",
   "execution_count": 2,
   "metadata": {},
   "outputs": [
    {
     "data": {
      "image/png": "[encoded data removed]",
      "text/plain": [
       "<Figure size 238.392x204.68 with 1 Axes>"
      ]
     },
     "execution_count": 2,
     "metadata": {},
     "output_type": "execute_result"
    }
   ],
   "source": [
    "circuit = QuantumCircuit(3)\n",
    "circuit.cx(0, 1)\n",
    "draw(circuit)"
   ]
  },
  {
   "cell_type": "markdown",
   "metadata": {},
   "source": [
    "The corresponding unitary matrix should be pretty straightforward, we just need to treat the missing gate in $q_2$ as an Identity matrix. Let's turn it into a combination of smaller matrices:\n",
    "\n",
    "$$\n",
    "I \\otimes CX =\n",
    "\\begin{bmatrix}\n",
    "CX & 0\\\\\n",
    "0 & CX\n",
    "\\end{bmatrix}\n",
    "=\n",
    "\\begin{bmatrix}\n",
    "\\bar{0} & \\bar{1} & 0 & 0\\\\\n",
    "\\bar{1} & \\bar{0} & 0 & 0\\\\\n",
    "0 & 0 & \\bar{0} & \\bar{1}\\\\\n",
    "0 & 0 & \\bar{1} & \\bar{0}\n",
    "\\end{bmatrix}\\\\\n",
    "=\n",
    "\\begin{bmatrix}\n",
    "\\bar{0} & 0 & 0 & 0\\\\\n",
    "0 & \\bar{0} & 0 & 0\\\\\n",
    "0 & 0 & \\bar{0} & 0\\\\\n",
    "0 & 0 & 0 & \\bar{0}\n",
    "\\end{bmatrix}\n",
    "+\n",
    "\\begin{bmatrix}\n",
    "0 & \\bar{1} & 0 & 0\\\\\n",
    "\\bar{1} & 0 & 0 & 0\\\\\n",
    "0 & 0 & 0 & \\bar{1}\\\\\n",
    "0 & 0 & \\bar{1} & 0\n",
    "\\end{bmatrix}\\\\\n",
    "=\n",
    "I \\oplus I \\oplus \\bar{0} + I \\oplus X \\oplus \\bar{1}\n",
    "$$\n",
    "\n",
    "Which we can interpret as: _\"$q_1$ remains the same if $q_0$ is equal to $|0\\rangle$, but gets flipped when it's $|1\\rangle$; $q_2$ is irrelevant.\"_ This is exactly the same as describing a CNOT gate between $q_0$ and $q_1$, with an Identity matrix on $q_2$!"
   ]
  },
  {
   "cell_type": "code",
   "execution_count": 3,
   "metadata": {},
   "outputs": [
    {
     "name": "stdout",
     "output_type": "stream",
     "text": [
      "|1 0 0 0 0 0 0 0|\n",
      "|0 0 0 1 0 0 0 0|\n",
      "|0 0 1 0 0 0 0 0|\n",
      "|0 1 0 0 0 0 0 0|\n",
      "|0 0 0 0 1 0 0 0|\n",
      "|0 0 0 0 0 0 0 1|\n",
      "|0 0 0 0 0 0 1 0|\n",
      "|0 0 0 0 0 1 0 0|\n",
      "\n"
     ]
    }
   ],
   "source": [
    "unitary(circuit)"
   ]
  },
  {
   "cell_type": "markdown",
   "metadata": {},
   "source": [
    "## $\\text{CNOT}_{12}$\n",
    "\n",
    "Nothing much changes if the third qubit is instead positioned on top, to be the first one."
   ]
  },
  {
   "cell_type": "code",
   "execution_count": 4,
   "metadata": {},
   "outputs": [
    {
     "data": {
      "image/png": "[encoded data removed]",
      "text/plain": [
       "<Figure size 238.392x204.68 with 1 Axes>"
      ]
     },
     "execution_count": 4,
     "metadata": {},
     "output_type": "execute_result"
    }
   ],
   "source": [
    "circuit = QuantumCircuit(3)\n",
    "circuit.cx(1, 2)\n",
    "draw(circuit)"
   ]
  },
  {
   "cell_type": "markdown",
   "metadata": {},
   "source": [
    "Here we can also easily calculate the resulting unitary matrix and split it into a combination of smaller matrices, just like before:\n",
    "\n",
    "$$\n",
    "CX \\otimes I =\n",
    "\\begin{bmatrix}\n",
    "I & 0 & 0 & 0\\\\\n",
    "0 & 0 & 0 & I\\\\\n",
    "0 & 0 & I & 0\\\\\n",
    "0 & I & 0 & 0\n",
    "\\end{bmatrix}\\\\\n",
    "= \\begin{bmatrix}\n",
    "I & 0 & 0 & 0\\\\\n",
    "0 & 0 & 0 & 0\\\\\n",
    "0 & 0 & I & 0\\\\\n",
    "0 & 0 & 0 & 0\n",
    "\\end{bmatrix}\n",
    "+\n",
    "\\begin{bmatrix}\n",
    "0 & 0 & 0 & 0\\\\\n",
    "0 & 0 & 0 & I\\\\\n",
    "0 & 0 & 0 & 0\\\\\n",
    "0 & I & 0 & 0\n",
    "\\end{bmatrix}\\\\\n",
    "= I \\otimes \\bar{0} \\otimes I + X \\otimes \\bar{1} \\otimes I\n",
    "$$\n",
    "\n",
    "The interpretation is pretty similar to the previous, only the order changes: _\"$q_2$ remains the same if $q_1$ is equal to $|0\\rangle$, but gets flipped if $q_1$ is $|1\\rangle$; $q_0$ is irrelevant.\"_"
   ]
  },
  {
   "cell_type": "code",
   "execution_count": 5,
   "metadata": {},
   "outputs": [
    {
     "name": "stdout",
     "output_type": "stream",
     "text": [
      "|1 0 0 0 0 0 0 0|\n",
      "|0 1 0 0 0 0 0 0|\n",
      "|0 0 0 0 0 0 1 0|\n",
      "|0 0 0 0 0 0 0 1|\n",
      "|0 0 0 0 1 0 0 0|\n",
      "|0 0 0 0 0 1 0 0|\n",
      "|0 0 1 0 0 0 0 0|\n",
      "|0 0 0 1 0 0 0 0|\n",
      "\n"
     ]
    }
   ],
   "source": [
    "unitary(circuit)"
   ]
  },
  {
   "cell_type": "markdown",
   "metadata": {},
   "source": [
    "## $\\text{CNOT}_{02}$"
   ]
  },
  {
   "cell_type": "code",
   "execution_count": 6,
   "metadata": {},
   "outputs": [
    {
     "data": {
      "image/png": "[encoded data removed]",
      "text/plain": [
       "<Figure size 238.392x204.68 with 1 Axes>"
      ]
     },
     "execution_count": 6,
     "metadata": {},
     "output_type": "execute_result"
    }
   ],
   "source": [
    "circuit = QuantumCircuit(3)\n",
    "circuit.cx(0, 2)\n",
    "draw(circuit)"
   ]
  },
  {
   "cell_type": "markdown",
   "metadata": {},
   "source": [
    "Here it gets trickier, because the $I$ is between the control and the target of the CNOT. I have no idea how to build this matrix, so I'll leave this calculation to Qiskit:"
   ]
  },
  {
   "cell_type": "code",
   "execution_count": 7,
   "metadata": {},
   "outputs": [
    {
     "name": "stdout",
     "output_type": "stream",
     "text": [
      "|1 0 0 0 0 0 0 0|\n",
      "|0 0 0 0 0 1 0 0|\n",
      "|0 0 1 0 0 0 0 0|\n",
      "|0 0 0 0 0 0 0 1|\n",
      "|0 0 0 0 1 0 0 0|\n",
      "|0 1 0 0 0 0 0 0|\n",
      "|0 0 0 0 0 0 1 0|\n",
      "|0 0 0 1 0 0 0 0|\n",
      "\n"
     ]
    }
   ],
   "source": [
    "unitary(circuit)"
   ]
  },
  {
   "cell_type": "markdown",
   "metadata": {},
   "source": [
    "We can see this matrix as:\n",
    "\n",
    "$$\n",
    "\\begin{bmatrix}\n",
    "\\bar{0} & 0 & \\bar{1} & 0\\\\\n",
    "0 & \\bar{0} & 0 & \\bar{1}\\\\\n",
    "\\bar{1} & 0 & \\bar{0} & 0\\\\\n",
    "0 & \\bar{1} & 0 & \\bar{0}\n",
    "\\end{bmatrix}\\\\\n",
    "=\n",
    "\\begin{bmatrix}\n",
    "\\bar{0} & 0 & 0 & 0\\\\\n",
    "0 & \\bar{0} & 0 & 0\\\\\n",
    "0 & 0 & \\bar{0} & 0\\\\\n",
    "0 & 0 & 0 & \\bar{0}\n",
    "\\end{bmatrix}\n",
    "+\n",
    "\\begin{bmatrix}\n",
    "0 & 0 & \\bar{1} & 0\\\\\n",
    "0 & 0 & 0 & \\bar{1}\\\\\n",
    "\\bar{1} & 0 & 0 & 0\\\\\n",
    "0 & \\bar{1} & 0 & 0\n",
    "\\end{bmatrix}\\\\\n",
    "=\n",
    "I \\otimes I \\otimes \\bar{0} + X \\otimes I \\otimes \\bar{1}\n",
    "$$\n",
    "\n",
    "Which could be interpreted as: _\"$q_2$ remains the same if $q_0$ is equal to $|0\\rangle$, but gets flipped when $q_0$ is $|1\\rangle$; $q_1$ is irrelevant.\"_ This is exactly like the previous two gates, but again in a different order!\n",
    "\n",
    "Now that we know how to reverse-engineer a unitary matrix into a circuit, is it also possible to do the opposite, by describing the circuit as its constituent gates, or even intuitively \"forward-engineer\" a circuit into a matrix? Let's try it out with the oracles described in real case scenarios."
   ]
  },
  {
   "cell_type": "markdown",
   "metadata": {},
   "source": [
    "## Quantum Teleportation: $\\text{CNOT}_{12} \\cdot \\text{CNOT}_{01}$"
   ]
  },
  {
   "cell_type": "code",
   "execution_count": 8,
   "metadata": {},
   "outputs": [
    {
     "data": {
      "image/png": "[encoded data removed]",
      "text/plain": [
       "<Figure size 298.592x204.68 with 1 Axes>"
      ]
     },
     "execution_count": 8,
     "metadata": {},
     "output_type": "execute_result"
    }
   ],
   "source": [
    "circuit = QuantumCircuit(3)\n",
    "circuit.cx(1, 2)\n",
    "circuit.cx(0, 1)\n",
    "draw(circuit)"
   ]
  },
  {
   "cell_type": "markdown",
   "metadata": {},
   "source": [
    "Let's describe this circuit gate by gate:\n",
    "\n",
    "$$\n",
    "(I \\otimes I \\otimes \\bar{0} + I \\otimes X \\otimes \\bar{1}) \\cdot (I \\otimes \\bar{0} \\otimes I + X \\otimes \\bar{1} \\otimes I)\n",
    "$$\n",
    "\n",
    "Once we perform the multiplication we get this result:\n",
    "\n",
    "$$\n",
    "= I \\otimes \\bar{0} \\otimes \\bar{0} + X \\otimes \\bar{1} \\otimes \\bar{0} + I \\otimes X \\cdot \\bar{0} \\otimes \\bar{1} + X \\otimes X \\cdot \\bar{1} \\otimes \\bar{1}\n",
    "$$\n",
    "\n",
    "An interpretation could be: _\"if $q_0$ is $|0\\rangle$ then $q_2$ depends solely on $q_1$; if $q_0$ is $|1\\rangle$ then $q_1$ will flip and $q_2$ will follow depending on the value of $q_1$.\"_\n",
    "\n",
    "Note that adding Hadamard gates doens't add much to the result:"
   ]
  },
  {
   "cell_type": "code",
   "execution_count": 15,
   "metadata": {},
   "outputs": [
    {
     "data": {
      "image/png": "[encoded data removed]",
      "text/plain": [
       "<Figure size 418.992x204.68 with 1 Axes>"
      ]
     },
     "execution_count": 15,
     "metadata": {},
     "output_type": "execute_result"
    }
   ],
   "source": [
    "circuit = QuantumCircuit(3)\n",
    "circuit.h(1)\n",
    "circuit.cx(1, 2)\n",
    "circuit.cx(0, 1)\n",
    "circuit.h(0)\n",
    "draw(circuit)"
   ]
  },
  {
   "cell_type": "markdown",
   "metadata": {},
   "source": [
    "$$\n",
    "(I \\otimes I \\otimes H) \\cdot\\\\\n",
    "(I \\otimes I \\otimes \\bar{0} + I \\otimes X \\otimes \\bar{1}) \\cdot (I \\otimes \\bar{0} \\otimes I + X \\otimes \\bar{1} \\otimes I) \\cdot\\\\\n",
    "(I \\otimes H \\otimes I)\n",
    "$$\n",
    "\n",
    "$$\n",
    "= I \\otimes \\bar{0} \\cdot H \\otimes H \\cdot \\bar{0} + X \\otimes \\bar{1} \\cdot H \\otimes H \\cdot \\bar{0} + I \\otimes X \\cdot \\bar{0} \\cdot H \\otimes H \\cdot \\bar{1} + X \\otimes X \\cdot \\bar{1} \\cdot H \\otimes H \\cdot \\bar{1}\n",
    "$$"
   ]
  },
  {
   "cell_type": "markdown",
   "metadata": {},
   "source": [
    "## Deutsch-Josza: $\\text{CNOT}_{02} \\cdot \\text{CNOT}_{12}$"
   ]
  },
  {
   "cell_type": "code",
   "execution_count": 9,
   "metadata": {},
   "outputs": [
    {
     "data": {
      "image/png": "[encoded data removed]",
      "text/plain": [
       "<Figure size 298.592x204.68 with 1 Axes>"
      ]
     },
     "execution_count": 9,
     "metadata": {},
     "output_type": "execute_result"
    }
   ],
   "source": [
    "circuit = QuantumCircuit(3)\n",
    "circuit.cx(0, 2)\n",
    "circuit.cx(1, 2)\n",
    "draw(circuit)"
   ]
  },
  {
   "cell_type": "markdown",
   "metadata": {},
   "source": [
    "What does this circuit mean? How does it work? Let's reverse-engineer it by having a look at the computed unitary matrix:"
   ]
  },
  {
   "cell_type": "code",
   "execution_count": 10,
   "metadata": {},
   "outputs": [
    {
     "name": "stdout",
     "output_type": "stream",
     "text": [
      "|1 0 0 0 0 0 0 0|\n",
      "|0 0 0 0 0 1 0 0|\n",
      "|0 0 0 0 0 0 1 0|\n",
      "|0 0 0 1 0 0 0 0|\n",
      "|0 0 0 0 1 0 0 0|\n",
      "|0 1 0 0 0 0 0 0|\n",
      "|0 0 1 0 0 0 0 0|\n",
      "|0 0 0 0 0 0 0 1|\n",
      "\n"
     ]
    }
   ],
   "source": [
    "unitary(circuit)"
   ]
  },
  {
   "cell_type": "markdown",
   "metadata": {},
   "source": [
    "The matrix looks like the following:\n",
    "\n",
    "$$\n",
    "\\begin{bmatrix}\n",
    "\\bar{0} & 0 & \\bar{1} & 0\\\\\n",
    "0 & \\bar{1} & 0 & \\bar{0}\\\\\n",
    "\\bar{1} & 0 & \\bar{0} & 0\\\\\n",
    "0 & \\bar{0} & 0 & \\bar{1}\n",
    "\\end{bmatrix}\n",
    "=\n",
    "\\begin{bmatrix}\n",
    "\\bar{0} & 0 & 0 & 0\\\\\n",
    "0 & 0 & 0 & \\bar{0}\\\\\n",
    "0 & 0 & \\bar{0} & 0\\\\\n",
    "0 & \\bar{0} & 0 & 0\n",
    "\\end{bmatrix}\n",
    "+\n",
    "\\begin{bmatrix}\n",
    "0 & 0 & \\bar{1} & 0\\\\\n",
    "0 & \\bar{1} & 0 & 0\\\\\n",
    "\\bar{1} & 0 & 0 & 0\\\\\n",
    "0 & 0 & 0 & \\bar{1}\n",
    "\\end{bmatrix}\\\\\n",
    "= CX \\otimes \\bar{0} + X \\otimes I \\otimes I \\cdot CX \\otimes \\bar{1}\n",
    "$$\n",
    "\n",
    "Let's go a little further by expanding the CNOT gates:\n",
    "\n",
    "$$\n",
    "= (I \\otimes \\bar{0} \\otimes \\bar{0} + X \\otimes \\bar{1} \\otimes \\bar{0}) + (X \\otimes I \\otimes I) \\cdot (I \\otimes \\bar{0} \\otimes \\bar{1} + X \\otimes \\bar{1} \\otimes \\bar{1})\n",
    "$$\n",
    "\n",
    "And now, applying the product:\n",
    "\n",
    "$$\n",
    "= I \\otimes \\bar{0} \\otimes \\bar{0} + X \\otimes \\bar{1} \\otimes \\bar{0} + X \\otimes \\bar{0} \\otimes \\bar{1} + I \\otimes \\bar{1} \\otimes \\bar{1}\n",
    "$$\n",
    "\n",
    "Which could be interpreted as: _\"$q_2$ is flipped if only one of the other two is equal to $|1\\rangle$. In any other case it stays the same.\"_ It looks like a XOR which keeps the inputs in $q_0$ and $q_1$ and holds the output in $q_2$. Now it makes sense!\n",
    "\n",
    "Note that the result we found suggests to split the matrix in the following way, which is equivalent:\n",
    "\n",
    "$$\n",
    "\\begin{bmatrix}\n",
    "\\bar{0} & 0 & 0 & 0\\\\\n",
    "0 & 0 & 0 & 0\\\\\n",
    "0 & 0 & \\bar{0} & 0\\\\\n",
    "0 & 0 & 0 & 0\n",
    "\\end{bmatrix}\n",
    "+\n",
    "\\begin{bmatrix}\n",
    "0 & 0 & 0 & 0\\\\\n",
    "0 & 0 & 0 & \\bar{0}\\\\\n",
    "0 & 0 & 0 & 0\\\\\n",
    "0 & \\bar{0} & 0 & 0\n",
    "\\end{bmatrix}\n",
    "+\n",
    "\\begin{bmatrix}\n",
    "0 & 0 & \\bar{1} & 0\\\\\n",
    "0 & 0 & 0 & 0\\\\\n",
    "\\bar{1} & 0 & 0 & 0\\\\\n",
    "0 & 0 & 0 & 0\n",
    "\\end{bmatrix}\n",
    "+\n",
    "\\begin{bmatrix}\n",
    "0 & 0 & 0 & 0\\\\\n",
    "0 & \\bar{1} & 0 & 0\\\\\n",
    "0 & 0 & 0 & 0\\\\\n",
    "0 & 0 & 0 & \\bar{1}\n",
    "\\end{bmatrix}\n",
    "=\n",
    "\\begin{bmatrix}\n",
    "\\bar{0} & 0 & \\bar{1} & 0\\\\\n",
    "0 & \\bar{1} & 0 & \\bar{0}\\\\\n",
    "\\bar{1} & 0 & \\bar{0} & 0\\\\\n",
    "0 & \\bar{0} & 0 & \\bar{1}\n",
    "\\end{bmatrix}\n",
    "$$\n",
    "\n",
    "We could also describe the circuit as the sequence of its gates:\n",
    "\n",
    "$$\n",
    "(I \\otimes \\bar{0} \\otimes I + X \\otimes \\bar{1} \\otimes I) \\cdot (I \\otimes I \\otimes \\bar{0} + X \\otimes I \\otimes \\bar{1})\n",
    "$$\n",
    "\n",
    "Now performing the multiplication:\n",
    "\n",
    "$$\n",
    "= I \\otimes \\bar{0} \\otimes \\bar{0} + X \\otimes \\bar{0} \\otimes \\bar{1} + X \\otimes \\bar{1} \\otimes \\bar{0} + I \\otimes \\bar{1} \\otimes \\bar{1}\n",
    "$$\n",
    "\n",
    "Which is exactly the result we got with reverse-engineering."
   ]
  },
  {
   "cell_type": "markdown",
   "metadata": {},
   "source": [
    "## Simon's Oracle: $CNOT_{02} \\cdot CNOT_{03} \\cdot CNOT_{12} \\cdot CNOT_{13}$"
   ]
  },
  {
   "cell_type": "code",
   "execution_count": 16,
   "metadata": {},
   "outputs": [
    {
     "data": {
      "image/png": "[encoded data removed]",
      "text/plain": [
       "<Figure size 418.992x264.88 with 1 Axes>"
      ]
     },
     "execution_count": 16,
     "metadata": {},
     "output_type": "execute_result"
    }
   ],
   "source": [
    "circuit = QuantumCircuit(4)\n",
    "circuit.cx(0, 2)\n",
    "circuit.cx(0, 3)\n",
    "circuit.cx(1, 2)\n",
    "circuit.cx(1, 3)\n",
    "draw(circuit)"
   ]
  },
  {
   "cell_type": "markdown",
   "metadata": {},
   "source": [
    "Let's try another \"forward-engineer\". The circuit could be descibed as:\n",
    "\n",
    "1. _\"$q_2$ is flipped if $q_0$ or $q_1$ is $|1\\rangle$\"_\n",
    "2. _\"$q_3$ is flipped if $q_0$ or $q_1$ is $|1\\rangle$\"_\n",
    "3. _\"Any other case doesn't change the state of \"$q_2$ or \"$q_3$\"_\n",
    "\n",
    "Now, in maths:\n",
    "\n",
    "$$\n",
    "\\text{1. } (I \\otimes X \\otimes \\bar{0} \\otimes \\bar{1}) + (I \\otimes X \\otimes \\bar{1} \\otimes \\bar{0})\\\\\n",
    "\\text{2. } (X \\otimes I \\otimes \\bar{0} \\otimes \\bar{1}) + (X \\otimes I \\otimes \\bar{1} \\otimes \\bar{0})\\\\\n",
    "\\text{3. } (I \\otimes I \\otimes \\bar{0} \\otimes \\bar{0}) + (I \\otimes I \\otimes \\bar{1} \\otimes \\bar{1})\n",
    "$$\n",
    "\n",
    "We can simplify even further by combining 1. and 2. together, since both target qubits are flipped at the same time:\n",
    "\n",
    "$$\n",
    "\\text{1+2. } (X \\otimes X \\otimes \\bar{0} \\otimes \\bar{1}) + (X \\otimes X \\otimes \\bar{1} \\otimes \\bar{0})\\\\\n",
    "\\text{3. } (I \\otimes I \\otimes \\bar{0} \\otimes \\bar{0}) + (I \\otimes I \\otimes \\bar{1} \\otimes \\bar{1})\n",
    "$$\n",
    "\n",
    "If the description is correct, the resulting matrix should be:\n",
    "\n",
    "$$\n",
    "\\begin{bmatrix}\n",
    "0 & 0 & 0 & 0 & 0 & 0 & \\bar{1} & 0\\\\\n",
    "0 & 0 & 0 & 0 & 0 & 0 & 0 & \\bar{0}\\\\\n",
    "0 & 0 & 0 & 0 & \\bar{1} & 0 & 0 & 0\\\\\n",
    "0 & 0 & 0 & 0 & 0 & \\bar{0} & 0 & 0\\\\\n",
    "0 & 0 & \\bar{1} & 0 & 0 & 0 & 0 & 0\\\\\n",
    "0 & 0 & 0 & \\bar{0} & 0 & 0 & 0 & 0\\\\\n",
    "\\bar{1} & 0 & 0 & 0 & 0 & 0 & 0 & 0\\\\\n",
    "0 & \\bar{0} & 0 & 0 & 0 & 0 & 0 & 0\n",
    "\\end{bmatrix}\n",
    "+\n",
    "\\begin{bmatrix}\n",
    "\\bar{0} & 0 & 0 & 0 & 0 & 0 & 0 & 0\\\\\n",
    "0 & \\bar{1} & 0 & 0 & 0 & 0 & 0 & 0\\\\\n",
    "0 & 0 & \\bar{0} & 0 & 0 & 0 & 0 & 0\\\\\n",
    "0 & 0 & 0 & \\bar{1} & 0 & 0 & 0 & 0\\\\\n",
    "0 & 0 & 0 & 0 & \\bar{0} & 0 & 0 & 0\\\\\n",
    "0 & 0 & 0 & 0 & 0 & \\bar{1} & 0 & 0\\\\\n",
    "0 & 0 & 0 & 0 & 0 & 0 & \\bar{0} & 0\\\\\n",
    "0 & 0 & 0 & 0 & 0 & 0 & 0 & \\bar{1}\n",
    "\\end{bmatrix}\n",
    "=\n",
    "\\begin{bmatrix}\n",
    "\\bar{0} & 0 & 0 & 0 & 0 & 0 & \\bar{1} & 0\\\\\n",
    "0 & \\bar{1} & 0 & 0 & 0 & 0 & 0 & \\bar{0}\\\\\n",
    "0 & 0 & \\bar{0} & 0 & \\bar{1} & 0 & 0 & 0\\\\\n",
    "0 & 0 & 0 & \\bar{1} & 0 & \\bar{0} & 0 & 0\\\\\n",
    "0 & 0 & \\bar{1} & 0 & \\bar{0} & 0 & 0 & 0\\\\\n",
    "0 & 0 & 0 & \\bar{0} & 0 & \\bar{1} & 0 & 0\\\\\n",
    "\\bar{1} & 0 & 0 & 0 & 0 & 0 & \\bar{0} & 0\\\\\n",
    "0 & \\bar{0} & 0 & 0 & 0 & 0 & 0 & \\bar{1}\n",
    "\\end{bmatrix}\n",
    "$$\n",
    "\n",
    "Will it work?"
   ]
  },
  {
   "cell_type": "code",
   "execution_count": 12,
   "metadata": {},
   "outputs": [
    {
     "name": "stdout",
     "output_type": "stream",
     "text": [
      "|1 0 0 0 0 0 0 0 0 0 0 0 0 0 0 0|\n",
      "|0 0 0 0 0 0 0 0 0 0 0 0 0 1 0 0|\n",
      "|0 0 0 0 0 0 0 0 0 0 0 0 0 0 1 0|\n",
      "|0 0 0 1 0 0 0 0 0 0 0 0 0 0 0 0|\n",
      "|0 0 0 0 1 0 0 0 0 0 0 0 0 0 0 0|\n",
      "|0 0 0 0 0 0 0 0 0 1 0 0 0 0 0 0|\n",
      "|0 0 0 0 0 0 0 0 0 0 1 0 0 0 0 0|\n",
      "|0 0 0 0 0 0 0 1 0 0 0 0 0 0 0 0|\n",
      "|0 0 0 0 0 0 0 0 1 0 0 0 0 0 0 0|\n",
      "|0 0 0 0 0 1 0 0 0 0 0 0 0 0 0 0|\n",
      "|0 0 0 0 0 0 1 0 0 0 0 0 0 0 0 0|\n",
      "|0 0 0 0 0 0 0 0 0 0 0 1 0 0 0 0|\n",
      "|0 0 0 0 0 0 0 0 0 0 0 0 1 0 0 0|\n",
      "|0 1 0 0 0 0 0 0 0 0 0 0 0 0 0 0|\n",
      "|0 0 1 0 0 0 0 0 0 0 0 0 0 0 0 0|\n",
      "|0 0 0 0 0 0 0 0 0 0 0 0 0 0 0 1|\n",
      "\n"
     ]
    }
   ],
   "source": [
    "unitary(circuit)"
   ]
  },
  {
   "cell_type": "markdown",
   "metadata": {},
   "source": [
    "It does! Now we are able to easily build and understand circuits, using just our common sense!"
   ]
  },
  {
   "cell_type": "code",
   "execution_count": 13,
   "metadata": {},
   "outputs": [],
   "source": [
    "# IceOnFire"
   ]
  }
 ],
 "metadata": {
  "kernelspec": {
   "display_name": "Python 3.7.5 64-bit",
   "language": "python",
   "name": "python37564bit65bf80a0c77045babcde3eda8c48049c"
  },
  "language_info": {
   "codemirror_mode": {
    "name": "ipython",
    "version": 3
   },
   "file_extension": ".py",
   "mimetype": "text/x-python",
   "name": "python",
   "nbconvert_exporter": "python",
   "pygments_lexer": "ipython3",
   "version": "3.7.5"
  }
 },
 "nbformat": 4,
 "nbformat_minor": 4
}
